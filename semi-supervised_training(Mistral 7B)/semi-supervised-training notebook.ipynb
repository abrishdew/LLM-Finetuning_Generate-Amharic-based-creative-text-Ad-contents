{
 "cells": [
  {
   "cell_type": "code",
   "execution_count": 1,
   "metadata": {},
   "outputs": [],
   "source": [
    "\n",
    "\"\"\"Loading accelerator for later use-case \"\"\"\n",
    "from accelerate import FullyShardedDataParallelPlugin, Accelerator\n",
    "from torch.distributed.fsdp.fully_sharded_data_parallel import FullOptimStateDictConfig, FullStateDictConfig\n",
    "fsdp_plugin = FullyShardedDataParallelPlugin(\n",
    "    state_dict_config=FullStateDictConfig(offload_to_cpu=True, rank0_only=False),\n",
    "    optim_state_dict_config=FullOptimStateDictConfig(offload_to_cpu=True, rank0_only=False),\n",
    ")\n",
    "accelerator = Accelerator(fsdp_plugin=fsdp_plugin)"
   ]
  },
  {
   "cell_type": "markdown",
   "metadata": {},
   "source": [
    "Load Base Model\n",
    "Now, we load the Mistral 7B base model using 4-bit quantization."
   ]
  },
  {
   "cell_type": "code",
   "execution_count": null,
   "metadata": {},
   "outputs": [],
   "source": [
    "import torch\n",
    "from transformers import AutoTokenizer, AutoModelForCausalLM, BitsAndBytesConfig\n",
    "base_model_id = \"mistralai/Mistral-7B-v0.1\"\n",
    "bnb_config = BitsAndBytesConfig(\n",
    "    load_in_4bit=True,\n",
    "    bnb_4bit_use_double_quant=True,\n",
    "    bnb_4bit_quant_type=\"nf4\",\n",
    "    bnb_4bit_compute_dtype=torch.bfloat16\n",
    ")\n",
    "model = AutoModelForCausalLM.from_pretrained(base_model_id, quantization_config=bnb_config)"
   ]
  },
  {
   "cell_type": "markdown",
   "metadata": {},
   "source": [
    "#Loading the dataset from hugging face repository\n",
    "1. train set: used for training the model\n",
    "2. validation: used for validation set\n",
    "3. test_dataset = used for testing the dataset and checking the perfomance\n",
    "the data splitted into 70% trainingset 30% for testing and validation and further the 30% splitted into 50% test_set and 50%  validation_set\n"
   ]
  },
  {
   "cell_type": "code",
   "execution_count": 7,
   "metadata": {},
   "outputs": [
    {
     "name": "stdout",
     "output_type": "stream",
     "text": [
      "\n",
      "Training Dataset:\n",
      "{'text': ['ADVERTISMENT አፊያ ሙሀመድ ከፍተኛ የባህል ሕክምና እና ዘመናዊ የዋግምት አገልግሎት የምንሰጣቸው የባህል ህክምናዎች ➢ ለውጭና ለውስጥ ኪንታሮት ➢ ለማድያት ➢ ለሱኳር በሽታ ➢ለጉበት(ለወፍ በሽታ) ➢ለጨጎራ ህመም ➢ለስፈተወሲብ ➢ለደም ግፊት ➢ለአስም ወይም ሳይነስ ➢ለሚጥል በሺታ ➢ ለእሪህና ቁርጥማት ➢ለራስ ህመም (ማይግሪን) ➢ለቺፌ ና ለጭርት ➢ለቋቁቻና ፎረፎር ➢ለእጢና ለእባጭ ➢ለወገብ ህመም ➢ለመካንነት ለወድም ለሴትም ➢ለጆሮና ለአይን ህመም ➢ለሆድ ህመም ➢ዘመናዊ የዋግምት አገልግሎት በተቋማችን እንሰጣለን። 👉ከኢትዮጵያ ባህላዊ ህክምና አዋቂዎች ማህበር በዘርፉ ህጋዊ የባህል ህክምና ፍቃድ ያለን ነን። አድራሻ:አዲስ አበባ አየር ጤና ስልክ ቁጥር 📲0927506650 📲0987133734 📲0939605455 ቴሌግራም ቻናላችን ntvE5NmM0', 'ከአዝናኝ ጨዋታዎች እና ሽልማቶች ጋር በያላችሁበት እየደረስን ነው፡፡ ዕድሉ አያምልጣችሁ፤ አረንጓዴው የሳፋሪኮም አውቶብሳችን ባለበት በኩል ስታልፉ ተቀላቀሉን በአብሮነት ቆንጆ ጊዜ እናሳልፍ!\\n\\n#Gursha\\n#SafaricomEthiopia #FurtherAheadTogether', 'ይነበብ! ቴዲ አፍሮ ከአሜሪካ መልክት ለኢትዮጵያውያን አስተላላፊ። ዶክተር አብይን ሀገር ውስጥ ሆኜ ባለመደገፌ በተሰምቶኛል።', 'በሳፋሪኮም ምቹ የድምጽ ፣ የፅሁፍ መልዕክት እና ፈጣን 4G የኢንተርኔት ድህረ ክፍያ ጥቅሎች ያለሃሳብ እንስራ ፤ ንግዳችንን እናሳድግ!\\n\\nለአገልግሎቱ ለመመዝገብ የሳፋሪኮምን ድህረ - ገፅ እንጎብኝ፣ ወደ 0700 755 755 or 0700 700 755 እንደውል ወይም ወደ enterprisesupport@safaricom.et ኢሜይል እንላክ።\\n\\n#SafaricomBusiness #FurtherAheadTogether', 'News Alert ‼️ የሀዋሳ ከተማ እና አካባቢዋ ፀጥታ በመከላከያ እና በፌደራል ፓሊስ እዝ ሥር እንደሆነ ተውስኗል የሚል ከመሸ በመሰራጨት ላይ ይገኛል የዚህ ዜና እውነታ ለማጣራት ሙከራ አድርገና የደረስንበት ከእውነት የራቀ መሆኑን ለመረዳት ችለናል። በዚህ ጉዳይ ላይ መረጃው አለኝ የምትሉ መረጃ በ ላይ መላክ ትችላላችሁ።'], 'Human_Label': ['healthcare &pharma', 'Telecom', 'Media', 'Telecom', 'Media']}\n",
      "\n",
      "Validation Dataset:\n",
      "{'text': ['ADVERTISMENT አፊያ ሙሀመድ ከፍተኛ የባህል ሕክምና እና ዘመናዊ የዋግምት አገልግሎት የምንሰጣቸው የባህል ህክምናዎች ➢ ለውጭና ለውስጥ ኪንታሮት ➢ ለማድያት ➢ ለሱኳር በሽታ ➢ለጉበት(ለወፍ በሽታ) ➢ለጨጎራ ህመም ➢ለስፈተወሲብ ➢ለደም ግፊት ➢ለአስም ወይም ሳይነስ ➢ለሚጥል በሺታ ➢ ለእሪህና ቁርጥማት ➢ለራስ ህመም (ማይግሪን) ➢ለቺፌ ና ለጭርት ➢ለቋቁቻና ፎረፎር ➢ለእጢና ለእባጭ ➢ለወገብ ህመም ➢ለመካንነት ለወድም ለሴትም ➢ለጆሮና ለአይን ህመም ➢ለሆድ ህመም ➢ዘመናዊ የዋግምት አገልግሎት በተቋማችን እንሰጣለን። 👉ከኢትዮጵያ ባህላዊ ህክምና አዋቂዎች ማህበር በዘርፉ ህጋዊ የባህል ህክምና ፍቃድ ያለን ነን። አድራሻ:አዲስ አበባ አየር ጤና ስልክ ቁጥር 📲0927506650 📲0987133734 📲0939605455 ቴሌግራም ቻናላችን ntvE5NmM0', 'ADVERTISMENT መልካም ነገር ከሉሲ የአጥንትና የመገጣጠሚያ ቀዶ ሕክምና ማእከል ለአጥንትና ለመገጣጠሚያ ችግሮችና ህመሞች አይነተኛ መፍትሄ የምንሰጣቸው የህክምና አገልግሎቶች ✔ማንኛውም ስብራትና ውልቃት ሕክምና ✔የጉልበትና ዳሌ መገጣጠሚያ ችግር ✔ውስብስብ ከባድ ስብራቶችና ውልቃቶች ✔የጡንቻና የጅማት ጉዳት ህመሞችን ማከም ✔የሕፃናት እና አዋቂዎች እጅና እግር መጣመም ማስተካከል ✔ስብራቶችንና ውልቃቶችን ያለ ቀዶ ሕክምና ማከም ✔በቀዶ ሕክምና የገቡ የተለያዩ ብረቶችን ማውጣት ✔የፕላስቲክ ሰርጀሪ ሕክምና ✔በዳሌና ዳሌ ገንዳ ስብራቶችን በፍሎሮስኮፒ የታገዘ ሕክምና ማድረግ 📌ልምድና ብቃት ባላቸው ስፔሻሊስት እና ሰብ ስፔሻሊስት ሀኪሞች እጅግ ዘመናዊ በሆኑ የህክምና መሳሪያወች በመታገዝ ሁሉንም የህክምና አገልግሎቶች በተመጣጣኝ ዋጋ ያገኛሉ‼ አድራሻ : አየር ጤና ጅማበር ፖሊስ ጣቢያ ጎን 📲 0913468103 0953912229', 'ADVERTISMENT ሰለሞን ጌታቸው የተመሰከረለት የሂሳብ አዋቂና የንግድ አማካሪ ድርጅት የምንሰጣቸው አገልግሎቶች ✔ ለድርጅትዎ በIFRS የታገዘ ዘመናዊ የሂሳብ አያያዝ ስርኣትን መዘርጋት ✔የሂሳብ መዝገብ አያያዝ ስልጠና መስጠት ✔ በማንኛውም የቢዝነስ ጉዳይ የማማከር አገልግሎት ✔ለሁሉም ዘርፍ የፕሮጀክት ቢዝነስ ፕላን ማዘጋጀትና ስለ ስራው በዝርዝር ማማከር ✔ በፒኤችትሪ አካውንቲግ ስልጠና በግልም ሆነ በቡድን መስጠት ከብዙ አገልግሎቶቻችን ይጠቀሳሉ።በአገልግሎቶቻችን ይረካሉ። አድራሻ:—ደሴ ከተማ ምንትዋብ አዳራሽ ፊት ለፊት ኪራይ ቤቶች ህንፃ 2ኛ ፎቅ ቢሮ ቁጥር S 6 ስልክ:— 📲 0911839966 0913018399 0908001616 ሰለሞን ጌታቸው የተመሰከረለት የሂሳብ አዋቂና የንግድ አማካሪ ድርጅት', 'Samsung A04 በመግዛት ህይወታችንን እናዘምን! ዛሬውኑ አቅራቢያችን ወዳለ የሳፋሪኮም ሱቅ ጎራ በማለት የግላችን እናድርገዉ።\\n\\n#SafaricomEthiopia \\n#FurtherAheadTogether', 'እንኳን ደስ አለህ ፋሂም!\\xa0\\nፋሂም ዚያድ ከድሬዳዋ በእጣ ቁጥር S026160222\\xa0 \\u200b\\u200bየተረክ በጉርሻ ሞተርሳይክል አሸናፊ ሆኗል።\\n\\nየሳፋሪኮም አገልግሎቶችን በመጠቀም ፣ ቀሪዎቹን ሽልማቶች እናሸንፍ!\\n\\n#FurtherAheadTogether'], 'Human_Label': ['healthcare &pharma', 'healthcare &pharma', 'financial service', 'Telecom', 'Telecom']}\n",
      "\n",
      "Test Dataset:\n",
      "{'text': ['ADVERTISMENT አፊያ ሙሀመድ ከፍተኛ የባህል ሕክምና እና ዘመናዊ የዋግምት አገልግሎት የምንሰጣቸው የባህል ህክምናዎች ➢ ለውጭና ለውስጥ ኪንታሮት ➢ ለማድያት ➢ ለሱኳር በሽታ ➢ለጉበት(ለወፍ በሽታ) ➢ለጨጎራ ህመም ➢ለስፈተወሲብ ➢ለደም ግፊት ➢ለአስም ወይም ሳይነስ ➢ለሚጥል በሺታ ➢ ለእሪህና ቁርጥማት ➢ለራስ ህመም (ማይግሪን) ➢ለቺፌ ና ለጭርት ➢ለቋቁቻና ፎረፎር ➢ለእጢና ለእባጭ ➢ለወገብ ህመም ➢ለመካንነት ለወድም ለሴትም ➢ለጆሮና ለአይን ህመም ➢ለሆድ ህመም ➢ዘመናዊ የዋግምት አገልግሎት በተቋማችን እንሰጣለን። 👉ከኢትዮጵያ ባህላዊ ህክምና አዋቂዎች ማህበር በዘርፉ ህጋዊ የባህል ህክምና ፍቃድ ያለን ነን። አድራሻ:አዲስ አበባ አየር ጤና ስልክ ቁጥር 📲0927506650 📲0987133734 📲0939605455 ቴሌግራም ቻናላችን ntvE5NmM0', 'Bulk SMS ለሁሉም ቢዝነሶቻችን የሚመቹ ጥቅሎች ይዞ መቷል። ከሁለቱ አማራጮች በመምረጥ ዛሬውኑ ለደንበኞቻችን እንደውል፤ ቢዝነሳችንን እናጣጡፍ።\\n\\nለአገልግሎቱ ለመመዝገብ ድህረ - ገጻችንን ይጎብኙ፣ ወደ 0700 755 755 or  0700 700 755 ይደውሉ ወይም ወደ enterprisesupport@safaricom.et ኢሜይል ይላኩ\\n\\n#SafaricomBusiness #FurtherAheadTogether', '⬆️⬆️ስለ ደብረ ማርቆስ ዩኒቨርሲቲ አጭር መረጃ! ዩኒቨርሲቲው ውስጥ ከሚገኙ ሰዎች ያገኘሁት መረጃ: አንድ የዩኒቨርሲቲው የተማሪዎች ህብረት አባል የሆነ ተማሪ ትናንት ጠዋት 4 ሰአት አካባቢ በደረሰበት ድብደባ ህይወቱ አልፏል። የግጭቱ መነሻ እስካሁን አልታወቀም፣ ግን ሟቹ ሲረብሹ የነበሩ ተማሪዎችን ቪድዮ ሲቀርፅ ነበር ሲባል ሰምተናል። ምናልባት ፀቡ በዚህ የተነሳ ሊሆን ይችላል። አሁን ላይ ትምህርት ሙሉ ለሙሉ ተቋርጧል። ትናንት ህይወቱ ያለፈው ተማሪ የትግራይ ተወላጅ ነው። በዚህ ምክንያት ትናንት ምሽት የትግራይ ተማሪዎች አንድ አዳራሽ ውስጥ አድረዋል። ይህም ደህንነታቸውን ለመጠበቅ ታስቦ ይመስለናል። Via Elias Meseret', 'ADVERTISMENT ወሎ ሀይቅ ቤት ከፈለጉ ይደውሉ 👇 ዶ/ር አብዱ፣ ዶ/ር ሙሀመድ እና ጓደኞቻቸው ሪልስቴት የማልማትና የማከፋፈል ህ/ሽ/ማ በወሎ ሀይቅ ከተማ የአፖርታማ እጣ ሽያጭ ጀምሯል፡፡ ① የቦታው መገኛ ሀይቅ ከተማ ከፒያሳ 250ሜ ወደ ሀይቁ አቅጣጫ አዲሱ አስፓልት ዳር ② የቦታው አገልግሎት ቅይጥ ③ አንድ እጣ 60 ካሜ የመኖሪያ አፓርታማ እና 10 ካሬ የሱቅ ቦታ ከፓርኪንግ ጋር ④ ግንባታ በጋራ ወጪ ነው፡፡ ⑤ ቦታው በሪልስቴቱ ባለቤትነት የተመዘገበ ነው። ለበለጠ መረጃ:— 0937411111 0938411111 ታማኝነት መገለጫችን ነው። ዶ/ር አብዱ፣ ዶ/ር ሙሀመድ እና ጓደኞቻቸው ሪልስቴት የማልማትና የማከፋፈል ህ/ሽ/ማ', 'ADVERTISMENT ሰላም👋 እንኳን ወደ Writer’s Desk Consultancy በሰላም መጡ‼ስራችን ማማከር ነው።ለውጤት የሚያበቃ ምክር እንሰጣለን‼ ① ቪዛ ማማከር አገልግሎት ✔እንደ ካናዳ፣ አውስትራሊያ፣ ጃፓን፣ ቻይና እና ሌሎች ላሉ ታዋቂ መዳረሻዎች የስራ እና የጉብኝት ቪዛ እንዲያገኙ ማማከር ✔አስፈላጊ ሰነዶችን ከማዘጋጀት ጀምሮ ለኢንተርቪው እስክማሰልጠን እና ከፍተኛ የቪዛ ማረጋገጫ ተመኖችን ተጠቅሞ ደንበኞችን ማዘጋጀት ②ተማሪዎች ማማከር አገልግሎት ✔ተማሪዎች ተስማሚ የሆነ የውጪ ሀገር ኮሌጆችን እንዲያገኙ ማማክር ✔እንደ IELTS ላሉ ፈተናዎች ተማሪዎችን ብቁ ማድረግ እና ተማሪዎችን ለቪዛ ኢንተርቪው የማዘጋጀት ስራ እንሰራለን፡፡ ③የፅሁፍ አገልግሎቶች፡ ✔ይህ ከፍተኛ ዲግሪ ያላቸው እና ከተለያዩ ዲፓርትመንት የመጡ ለአካዳሚክ ፀሀፊዎች እና የላቀ ችሎታ ላላቸው የፈጠራ ፀሃፊዎች ነው፡፡ ✔ድርጅታችን ተማሪዎችን፣ ኩባንያዎችን ወይም ግለሰቦችን 24/7 ከሚገኙ የአካዳሚክ ፀሃፊዎች ጋር ያገናኛል:: ለእርስዎ የቲሲስ ወረቀቶች፣ blog ፅሁፎች፣ website content፣ ወይም ማንኛውም የፅሁፍ ፕሮጀክቶች ላይም ያማክሩዎታል። 👉ለማንኛውም የቪዛ አገልግሎቶች የማመልከቻ ክፍያ አለማስክፈላችንም ልዩ ያረገናል‼ Writer’s Desk Consultancy ዛሬውኑ ያግኙን👇 ስልክ ቁጥር፡—0944096500 ቴሌግራም ቻናል: ስራችን ማማከር ነው።ለውጤት የሚያበቃ ምክር እንሰጣለን‼'], 'Human_Label': ['healthcare &pharma', 'Telecom', 'Media', 'financial service', 'financial service']}\n"
     ]
    }
   ],
   "source": [
    "from datasets import load_dataset\n",
    "\n",
    "# Load the 'Tvsybkzkmapab/Amharic_ad_generation' dataset\n",
    "dataset = load_dataset('Tvsybkzkmapab/Amharic_ad_generation')\n",
    "\n",
    "# Access the 'train', 'validation', and 'test' splits\n",
    "train_dataset = dataset['train']\n",
    "validation_dataset = dataset['validation']\n",
    "test_dataset = dataset['test']\n",
    "\n",
    "# Print the first few samples from each split\n",
    "print(\"\\nTraining Dataset:\")\n",
    "print(train_dataset[:5])\n",
    "\n",
    "print(\"\\nValidation Dataset:\")\n",
    "print(validation_dataset[:5])\n",
    "\n",
    "print(\"\\nTest Dataset:\")\n",
    "print(test_dataset[:5])"
   ]
  },
  {
   "cell_type": "markdown",
   "metadata": {},
   "source": [
    "tokenization steps using pretrained tokenizer from huggingface \n",
    "(iocuydi/llama-2-amharic-3784m)"
   ]
  },
  {
   "cell_type": "code",
   "execution_count": 3,
   "metadata": {},
   "outputs": [],
   "source": [
    "import torch\n",
    "from transformers import AutoTokenizer, AutoModelForCausalLM, BitsAndBytesConfig\n",
    "\n",
    "tokenizer = AutoTokenizer.from_pretrained(\"iocuydi/llama-2-amharic-3784m\")  # Load your trained tokenizer\n",
    "\n",
    "tokenizer.model_max_length = 512  # Set maximum sequence length\n",
    "tokenizer.padding_side = \"left\"  # Set padding strategy\n",
    "tokenizer.add_eos_token = True "
   ]
  },
  {
   "cell_type": "code",
   "execution_count": 4,
   "metadata": {},
   "outputs": [],
   "source": [
    "def tokenize(prompt):\n",
    "    result = tokenizer(\n",
    "        prompt,\n",
    "        truncation=True,\n",
    "        max_length=512,\n",
    "        padding=\"max_length\",\n",
    "    )\n",
    "    result[\"labels\"] = result[\"input_ids\"].copy()\n",
    "    return result"
   ]
  },
  {
   "cell_type": "markdown",
   "metadata": {},
   "source": [
    "Instruction to the model and the description of the attributes for the model\n",
    "to have context and instruct it"
   ]
  },
  {
   "cell_type": "code",
   "execution_count": null,
   "metadata": {},
   "outputs": [],
   "source": [
    "def generate_and_tokenize_prompt(data_point):\n",
    "    text = data_point[\"text\"]\n",
    "    labels = data_point[\"Human_Label\"]\n",
    "\n",
    "    # Generate prompt template\n",
    "    template = f\"\"\"Given an Amharic advertisement sentence:\n",
    "\n",
    "\"{text}\"\n",
    "\n",
    "What are the main categories (tags) associated with this advertisement?\n",
    "\n",
    "Possible categories are: ['healthcare &pharma', 'Telecom', 'Media', 'financial service', 'consumer products', 'computing device', 'Realstate', 'retail', 'training', 'Entertainment', 'software development', 'Other']\n",
    "\n",
    "Target categories: \"{labels}\"\n",
    "\"\"\"\n",
    "\n",
    "    # Tokenize the prompt\n",
    "    return tokenize(template)"
   ]
  },
  {
   "cell_type": "code",
   "execution_count": null,
   "metadata": {},
   "outputs": [],
   "source": [
    "tokenized_train_dataset = train_dataset.map(generate_and_tokenize_prompt)\n",
    "tokenized_val_dataset = validation_dataset.map(generate_and_tokenize_prompt)"
   ]
  },
  {
   "cell_type": "markdown",
   "metadata": {},
   "source": [
    "Set Up LoRA\n",
    "Now, we prepare the model for fine-tuning by applying LoRA adapters to the linear layers of the model."
   ]
  },
  {
   "cell_type": "code",
   "execution_count": null,
   "metadata": {},
   "outputs": [],
   "source": [
    "from peft import prepare_model_for_kbit_training\n",
    "model.gradient_checkpointing_enable()\n",
    "model = prepare_model_for_kbit_training(model)\n",
    "\n",
    "def print_trainable_parameters(model):\n",
    "    \"\"\"\n",
    "    Prints the number of trainable parameters in the model.\n",
    "    \"\"\"\n",
    "    trainable_params = 0\n",
    "    all_param = 0\n",
    "    for _, param in model.named_parameters():\n",
    "        all_param += param.numel()\n",
    "        if param.requires_grad:\n",
    "            trainable_params += param.numel()\n",
    "    print(\n",
    "        f\"trainable params: {trainable_params} || all params: {all_param} || trainable%: {100 * trainable_params / all_param}\"\n",
    "    )"
   ]
  },
  {
   "cell_type": "code",
   "execution_count": null,
   "metadata": {},
   "outputs": [],
   "source": [
    "from peft import LoraConfig, get_peft_model\n",
    "config = LoraConfig(\n",
    "    r=8,\n",
    "    lora_alpha=16,\n",
    "    target_modules=[\n",
    "        \"q_proj\",\n",
    "        \"k_proj\",\n",
    "        \"v_proj\",\n",
    "        \"o_proj\",\n",
    "        \"gate_proj\",\n",
    "        \"up_proj\",\n",
    "        \"down_proj\",\n",
    "        \"lm_head\",\n",
    "    ],\n",
    "    bias=\"none\",\n",
    "    lora_dropout=0.05,  # Conventional\n",
    "    task_type=\"CAUSAL_LM\",\n",
    ")\n",
    "model = get_peft_model(model, config)\n",
    "print_trainable_parameters(model)\n",
    "# Apply the accelerator. You can comment this out to remove the accelerator.\n",
    "model = accelerator.prepare_model(model)"
   ]
  },
  {
   "cell_type": "markdown",
   "metadata": {},
   "source": [
    "Run Training\n",
    "In this step, we start training the fine-tuned model. You can adjust the training parameters according to your needs."
   ]
  },
  {
   "cell_type": "code",
   "execution_count": null,
   "metadata": {},
   "outputs": [],
   "source": [
    "if torch.cuda.device_count() > 1: # If more than 1 GPU\n",
    "    model.is_parallelizable = True\n",
    "    model.model_parallel = True"
   ]
  },
  {
   "cell_type": "code",
   "execution_count": null,
   "metadata": {},
   "outputs": [],
   "source": [
    "import transformers\n",
    "from datetime import datetime\n",
    "import sentencepiece as spm\n",
    "\n",
    "\n",
    "\n",
    "project = \"Mistral_Amharic-finetuning\"\n",
    "base_model_name = \"mistral\"\n",
    "run_name = base_model_name + \"-\" + project\n",
    "output_dir = \"./\" + run_name\n",
    "tokenizer.pad_token = tokenizer.eos_token\n",
    "\n",
    "\n",
    "trainer = transformers.Trainer(\n",
    "    model=model,\n",
    "    train_dataset=tokenized_train_dataset,\n",
    "    eval_dataset=tokenized_val_dataset,\n",
    "    args=transformers.TrainingArguments(\n",
    "        output_dir=output_dir,\n",
    "        warmup_steps=5,\n",
    "        per_device_train_batch_size=2,\n",
    "        gradient_accumulation_steps=4,\n",
    "        max_steps=1000,\n",
    "        learning_rate=2.5e-5, # Want about 10x smaller than the Mistral learning rate\n",
    "        logging_steps=50,\n",
    "        bf16=True,\n",
    "        optim=\"paged_adamw_8bit\",\n",
    "        logging_dir=\"./logs\",        # Directory for storing logs\n",
    "        save_strategy=\"steps\",       # Save the model checkpoint every logging step\n",
    "        save_steps=50,                # Save checkpoints every 50 steps\n",
    "        evaluation_strategy=\"steps\", # Evaluate the model every logging step\n",
    "        eval_steps=50,               # Evaluate and save checkpoints every 50 steps\n",
    "        do_eval=True,                # Perform evaluation at the end of training\n",
    "        report_to=\"wandb\",           # Comment this out if you don't want to use weights & baises\n",
    "        run_name=f\"{run_name}-{datetime.now().strftime('%Y-%m-%d-%H-%M')}\"          # Name of the W&B run (optional)\n",
    "    ),\n",
    "    data_collator=transformers.DataCollatorForLanguageModeling(tokenizer, mlm=False),\n",
    ")\n",
    "model.config.use_cache = False  # silence the warnings. Please re-enable for inference!\n",
    "trainer.train()"
   ]
  },
  {
   "cell_type": "code",
   "execution_count": null,
   "metadata": {},
   "outputs": [],
   "source": []
  }
 ],
 "metadata": {
  "kernelspec": {
   "display_name": "Python 3",
   "language": "python",
   "name": "python3"
  },
  "language_info": {
   "codemirror_mode": {
    "name": "ipython",
    "version": 3
   },
   "file_extension": ".py",
   "mimetype": "text/x-python",
   "name": "python",
   "nbconvert_exporter": "python",
   "pygments_lexer": "ipython3",
   "version": "3.8.10"
  }
 },
 "nbformat": 4,
 "nbformat_minor": 2
}
