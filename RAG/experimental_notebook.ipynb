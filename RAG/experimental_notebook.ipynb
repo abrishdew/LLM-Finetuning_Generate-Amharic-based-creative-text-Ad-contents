{
 "cells": [
  {
   "cell_type": "code",
   "execution_count": 5,
   "metadata": {},
   "outputs": [
    {
     "ename": "FileNotFoundError",
     "evalue": "[Errno 2] No such file or directory: 'manchester.json'",
     "output_type": "error",
     "traceback": [
      "\u001b[0;31m---------------------------------------------------------------------------\u001b[0m",
      "\u001b[0;31mFileNotFoundError\u001b[0m                         Traceback (most recent call last)",
      "Cell \u001b[0;32mIn[5], line 2\u001b[0m\n\u001b[1;32m      1\u001b[0m \u001b[38;5;28;01mfrom\u001b[39;00m \u001b[38;5;21;01mextract_json\u001b[39;00m \u001b[38;5;28;01mimport\u001b[39;00m extract_json\n\u001b[0;32m----> 2\u001b[0m a\u001b[38;5;241m=\u001b[39m \u001b[43mextract_json\u001b[49m\u001b[43m(\u001b[49m\u001b[38;5;124;43m'\u001b[39;49m\u001b[38;5;124;43mmanchester.json\u001b[39;49m\u001b[38;5;124;43m'\u001b[39;49m\u001b[43m)\u001b[49m\n",
      "File \u001b[0;32m~/LLM-Finetuning_Generate-Amharic-based-creative-text-Ad-contents/RAG/extract_json.py:8\u001b[0m, in \u001b[0;36mextract_json\u001b[0;34m(json_file)\u001b[0m\n\u001b[1;32m      5\u001b[0m last_25_percent_text \u001b[38;5;241m=\u001b[39m \u001b[38;5;124m\"\u001b[39m\u001b[38;5;124m\"\u001b[39m\n\u001b[1;32m      7\u001b[0m \u001b[38;5;66;03m# Load data from the provided JSON file\u001b[39;00m\n\u001b[0;32m----> 8\u001b[0m \u001b[38;5;28;01mwith\u001b[39;00m \u001b[38;5;28;43mopen\u001b[39;49m\u001b[43m(\u001b[49m\u001b[43mjson_file\u001b[49m\u001b[43m,\u001b[49m\u001b[43m \u001b[49m\u001b[38;5;124;43m'\u001b[39;49m\u001b[38;5;124;43mr\u001b[39;49m\u001b[38;5;124;43m'\u001b[39;49m\u001b[43m)\u001b[49m \u001b[38;5;28;01mas\u001b[39;00m file:\n\u001b[1;32m      9\u001b[0m     data \u001b[38;5;241m=\u001b[39m json\u001b[38;5;241m.\u001b[39mload(file)\n\u001b[1;32m     10\u001b[0m     messages \u001b[38;5;241m=\u001b[39m data\u001b[38;5;241m.\u001b[39mget(\u001b[38;5;124m'\u001b[39m\u001b[38;5;124mmessages\u001b[39m\u001b[38;5;124m'\u001b[39m, [])\n",
      "\u001b[0;31mFileNotFoundError\u001b[0m: [Errno 2] No such file or directory: 'manchester.json'"
     ]
    }
   ],
   "source": [
    "from extract_json import extract_json\n",
    "a= extract_json('ብስራት ስፖርት.json')"
   ]
  },
  {
   "cell_type": "code",
   "execution_count": 6,
   "metadata": {},
   "outputs": [
    {
     "ename": "NameError",
     "evalue": "name 'a' is not defined",
     "output_type": "error",
     "traceback": [
      "\u001b[0;31m---------------------------------------------------------------------------\u001b[0m",
      "\u001b[0;31mNameError\u001b[0m                                 Traceback (most recent call last)",
      "Cell \u001b[0;32mIn[6], line 2\u001b[0m\n\u001b[1;32m      1\u001b[0m \u001b[38;5;28;01mfrom\u001b[39;00m \u001b[38;5;21;01msemantic_chuncking\u001b[39;00m \u001b[38;5;28;01mimport\u001b[39;00m semantic_retriever\n\u001b[0;32m----> 2\u001b[0m chunks \u001b[38;5;241m=\u001b[39m semantic_retriever(\u001b[43ma\u001b[49m)\n",
      "\u001b[0;31mNameError\u001b[0m: name 'a' is not defined"
     ]
    }
   ],
   "source": [
    "from semantic_chuncking import semantic_retriever\n",
    "chunks = semantic_retriever(a)"
   ]
  },
  {
   "cell_type": "code",
   "execution_count": 3,
   "metadata": {},
   "outputs": [],
   "source": [
    "from operator import itemgetter\n",
    "\n",
    "from langchain_community.vectorstores import FAISS\n",
    "from langchain_core.output_parsers import StrOutputParser\n",
    "from langchain_core.prompts import ChatPromptTemplate\n",
    "from langchain_core.runnables import RunnableLambda, RunnablePassthrough\n",
    "from langchain_openai import ChatOpenAI, OpenAIEmbeddings\n"
   ]
  },
  {
   "cell_type": "code",
   "execution_count": 4,
   "metadata": {},
   "outputs": [
    {
     "ename": "NameError",
     "evalue": "name 'chunks' is not defined",
     "output_type": "error",
     "traceback": [
      "\u001b[0;31m---------------------------------------------------------------------------\u001b[0m",
      "\u001b[0;31mNameError\u001b[0m                                 Traceback (most recent call last)",
      "Cell \u001b[0;32mIn[4], line 2\u001b[0m\n\u001b[1;32m      1\u001b[0m vectorstore \u001b[38;5;241m=\u001b[39m FAISS\u001b[38;5;241m.\u001b[39mfrom_texts(\n\u001b[0;32m----> 2\u001b[0m     \u001b[43mchunks\u001b[49m, embedding\u001b[38;5;241m=\u001b[39mOpenAIEmbeddings()\n\u001b[1;32m      3\u001b[0m )\n\u001b[1;32m      4\u001b[0m retriever \u001b[38;5;241m=\u001b[39m vectorstore\u001b[38;5;241m.\u001b[39mas_retriever(search_kwargs\u001b[38;5;241m=\u001b[39m{\u001b[38;5;124m\"\u001b[39m\u001b[38;5;124mk\u001b[39m\u001b[38;5;124m\"\u001b[39m : \u001b[38;5;241m1\u001b[39m}) \u001b[38;5;66;03m# Specifying the value of \"k\" \u001b[39;00m\n",
      "\u001b[0;31mNameError\u001b[0m: name 'chunks' is not defined"
     ]
    }
   ],
   "source": [
    "vectorstore = FAISS.from_texts(\n",
    "    chunks, embedding=OpenAIEmbeddings()\n",
    ")\n",
    "retriever = vectorstore.as_retriever(search_kwargs={\"k\" : 1}) # Specifying the value of \"k\" "
   ]
  },
  {
   "cell_type": "code",
   "execution_count": null,
   "metadata": {},
   "outputs": [
    {
     "ename": "NameError",
     "evalue": "name 'retriever' is not defined",
     "output_type": "error",
     "traceback": [
      "\u001b[0;31m---------------------------------------------------------------------------\u001b[0m",
      "\u001b[0;31mNameError\u001b[0m                                 Traceback (most recent call last)",
      "Cell \u001b[0;32mIn[1], line 1\u001b[0m\n\u001b[0;32m----> 1\u001b[0m relevant_docs \u001b[38;5;241m=\u001b[39m \u001b[43mretriever\u001b[49m\u001b[38;5;241m.\u001b[39mget_relevant_documents(\u001b[38;5;124m\"\u001b[39m\u001b[38;5;124mቤቲንግ\u001b[39m\u001b[38;5;124m\"\u001b[39m)\n\u001b[1;32m      2\u001b[0m relevant_docs\n",
      "\u001b[0;31mNameError\u001b[0m: name 'retriever' is not defined"
     ]
    }
   ],
   "source": [
    "relevant_docs = retriever.get_relevant_documents(\"ቤቲንግ\")\n",
    "relevant_docs"
   ]
  },
  {
   "cell_type": "code",
   "execution_count": 23,
   "metadata": {},
   "outputs": [
    {
     "name": "stdout",
     "output_type": "stream",
     "text": [
      "ቤቲንግ ይጫወታሉ መበላትስ ሰልችቶታል እንግዲህያዉንሱ በነፃ ያለምንም ክፍያ በቀን ከ 10-15 odd የሚለቀቅበት ቻናል ልጠቁማቹ ይጠቀሙበታል ይቀላቀሉ JOIN Request ይበሉ !Antony via IG 🔥❤️የፍቅረኛችሁን   ሰው   ስም   የመጀመርያ ፊደል   በመጫን  ስለ ፍቅረኛዎ ይወቁ ❣︎❣\n",
      "\n",
      "😍😍😍\n",
      "ዳይ ለሁላችሁም ነው እንዳያመልጥዎ!!1GB ስንት MB ነው?U-N-I-T-E-D ❤️Free ተለቋል።✅✅✅✅\n",
      "ቤቲንግ ለጠመመባቹ ብቻ።\n",
      "\n",
      "ከኛ ጋር የማይቻል ይቻላል \n",
      "ድንቅ አዲስ ቻናል፣ ምን ትጠብቃላቹ፣ ተቀላቀሉ እና የድሉ ተካፋይ ሁኑJUST IN \n",
      "\n",
      "አምራባት በቋሚ አሰላለፍ ውስጥ ይጀመራልJUST IN \n",
      "\n",
      "ሉክ ሾው በመሀል ተከላካይነት(CB) ቦታ ላይ ይጀምራል !ማን ዩናይትድ XI ከ ቦርንማውዝ፡ ኦናና፣ ዳሎት፣ ሬጊሎን፣ ማጉዊር፣ ሻው፣ አምራባት፣ ማክቶሚናይ፣ ፈርናንዴዝ፣ ጋርናቾ፣ አንቶኒ፣ ማርሻል።ጋርና በቋሚ አሰላለፍ ላይ ጀምሯል ! 🤌❤️ኦልትራፎርድ ገና ጨዋታው ሳይጠናቀቅ በባዶ ወንበሮች ብቻ ነበረች !ማክቶሚናይ 🗣\n",
      "\n",
      "\" ይህ የተጫዋቾች ሀላፊነት ነው እሱን እናውቃለን ፤ በመልበሻ ክፍላችንም ትልልቅ ስብእና ያላቸው ተጫዋቾች አሉን ብዙ ግዜ ከቴንሀግ ጋር አለመግባባት የምንፈታበት መንገድ እንደሌሎች አሰልጣኞች አየደለም ።\"\n",
      "\n",
      "\" ተጫዋቾቹ ከቴንሀግ ጎን ናቸው ።\"በበርንማውዝን ከተረታው ቡድን የተቀየረው ተጫዋች ቶኒ ማርሲያል በራስመስ ሆይሉንድ ብቻ ነው ሌላው ሙሉ አሰላለፉ ተመሳሳይ ነው !U-N-I-T-E-Dወደ ሳጥን መግባት የሚችሉ እና ክሊኒካል የመስመር አጥቂዎች ቢኖሩን ምናልባት ጎል የማስቆጠር እድሎች ይኖሩን ነበር ጨዋታውን ከሞላ ጎደል ይዘነዋል ::ዋንቢሳካ እያሟሟቀ ነው ! ምናልባት ሾው ብሽሽቱን እያሸ ነበር ምቾት ሳይሰማው ቀርቶ ይሆን ?ቤቲንግ ለምትመድቡ ሁሉ📍\n",
      "\n",
      "🌏የአውሮፓ እግርኳስ ዛሬ ዛሬ በቀላሉ ለመገመት አዳጋች ሆኗል ፤ ያልታሰበው እየሆነ በርካቶች ላልተገባ ኪሳራ እየተዳረጉ ነው።\n",
      "\n",
      "🤝እኛም ይህን ከግምት በማስገባት አሉ ከተባሉ የውጭ እግርኳስ ባለሞያዎች እና አወራራጆች ጋር በመሆን በጥልቅ ትንተና የተዘጋጁ የውጤት ጥቆማዎችን ለቤቲንግ አፍቃሪዎች በሙሉ አቅርበናል 𝗕𝗢𝗢𝗠 አይባል ታዲያ።\n",
      "\n",
      "🔰ምንም ሽንፈት የሚባል ነገር አያውቁም ስራቸውን በጥራት ነው የሚሰሩት እርሶም ተቀላቅለው አትራፊ ይሁኑ በቀን 85+ 𝗢𝗗𝗗 ድረስ እንሰጣለን።ቤቲንግ ለምትመድቡ ሁሉ📍\n",
      "\n",
      "🤝ብዙ ዓመት ልምድ ባላቸው ቀማሪዎች የተከፈተ ብችኛ ታማኝ ቻናል ነው🫵\n",
      "\n",
      "ከኛጋ በመሆን ከሳምንት እስከ ሳምንት አሸናፊ ይሁኑ ትርፋማ ይሁኑ🥰 ከንግግር በላይ ስራችን አይተው👀 ይመስክሩ👣\n",
      "\n",
      "🏆ተመልካች ብቻ አይሁኑ! ማሸነፍ ይጀምሩ!⚽️\n",
      "\n",
      "  👇የዛሬ ጨዋታ ለማግኘት\n",
      "የቴሌግራም ቻናላችንን JOIN ያድርጉ 👇ቤቲንግ ለምትመድቡ ሁሉ📍\n",
      "\n",
      "🌏የአውሮፓ እግርኳስ ዛሬ ዛሬ በቀላሉ ለመገመት አዳጋች ሆኗል ፤ ያልታሰበው እየሆነ በርካቶች ላልተገባ ኪሳራ እየተዳረጉ ነው።\n",
      "\n",
      "🤝እኛም ይህን ከግምት በማስገባት አሉ ከተባሉ የውጭ እግርኳስ ባለሞያዎች እና አወራራጆች ጋር በመሆን በጥልቅ ትንተና የተዘጋጁ የውጤት ጥቆማዎችን ለቤቲንግ አፍቃሪዎች በሙሉ አቅርበናል 𝗕𝗢𝗢𝗠 አይባል ታዲያ።\n",
      "\n",
      "🔰ምንም ሽንፈት የሚባል ነገር አያውቁም ስራቸውን በጥራት ነው የሚሰሩት እርሶም ተቀላቅለው አትራፊ ይሁኑ በቀን 85+ 𝗢𝗗𝗗 ድረስ እንሰጣለን።Free ተለቋል።✅✅✅✅\n",
      "ቤቲንግ ለጠመመባቹ ብቻ።\n",
      "\n",
      "ከኛ ጋር የማይቻል ይቻላል \n",
      "ድንቅ አዲስ ቻናል፣ ምን ትጠብቃላቹ፣ ተቀላቀሉ እና የድሉ ተካፋይ ሁኑግሪንውድ ጎል አስቆጥሯል!Free ተለቋል።✅✅✅✅\n",
      "ቤቲንግ ለጠመመባቹ ብቻ።\n",
      "\n",
      "ከኛ ጋር የማይቻል ይቻላል \n",
      "ድንቅ አዲስ ቻናል፣ ምን ትጠብቃላቹ፣ ተቀላቀሉ እና የድሉ ተካፋይ ሁኑቤቲንግ ለምትመድቡ ሁሉ📍\n",
      "\n",
      "🌏የአውሮፓ እግርኳስ ዛሬ ዛሬ በቀላሉ ለመገመት አዳጋች ሆኗል ፤ ያልታሰበው እየሆነ በርካቶች ላልተገባ ኪሳራ እየተዳረጉ ነው።\n",
      "\n",
      "🤝እኛም ይህን ከግምት በማስገባት አሉ ከተባሉ የውጭ እግርኳስ ባለሞያዎች እና አወራራጆች ጋር በመሆን በጥልቅ ትንተና የተዘጋጁ የውጤት ጥቆማዎችን ለቤቲንግ አፍቃሪዎች በሙሉ አቅርበናል 𝗕𝗢𝗢𝗠 አይባል ታዲያ።\n",
      "\n",
      "🔰ምንም ሽንፈት የሚባል ነገር አያውቁም ስራቸውን በጥራት ነው የሚሰሩት እርሶም ተቀላቅለው አትራፊ ይሁኑ በቀን 85+ 𝗢𝗗𝗗 ድረስ እንሰጣለን።አምራባት እና ማይኖ ቢጫ ካርድ በመጀመሪያው አጋማሽ ተመልክተዋል።\n",
      "\n",
      "ምን ይፈጠር ይሆን?ራፋኤል ቫራንም ጥሩ የነበረው ሌላኛው ተጫዋች ነው ከመጀመርያው ግማሽ ! 👏ቤቲንግ ለምትመድቡ ሁሉ📍\n",
      "\n",
      "🤝ብዙ ዓመት ልምድ ባላቸው ቀማሪዎች የተከፈተ ብችኛ ታማኝ ቻናል ነው🫵\n",
      "\n",
      "ከኛጋ በመሆን ከሳምንት እስከ ሳምንት አሸናፊ ይሁኑ ትርፋማ ይሁኑ🥰 ከንግግር በላይ ስራችን አይተው👀 ይመስክሩ👣\n",
      "\n",
      "🏆ተመልካች ብቻ አይሁኑ! ማሸነፍ ይጀምሩ!⚽️\n",
      "\n",
      "  👇የዛሬ ጨዋታ ለማግኘት\n",
      "የቴሌግራም ቻናላችንን JOIN ያድርጉ 👇ቤቲንግ ይጫወታሉ መበላትስ ሰልችቶታል እንግዲህያዉንሱ በነፃ ያለምንም ክፍያ በቀን ከ 10-15 odd የሚለቀቅበት ቻናል ልጠቁማቹ ይጠቀሙበታል ይቀላቀሉ JOIN Request ይበሉ !አንድሬ ኦናና በፕሪምየር ሊጉ ካሉ ግብ ጠባቂዎች አንፃር ያስመዘገበው ቁጥር ! ምርጥ ግብ ጠባቂ 👌🎖ቤቲንግ ይጫወታሉ መበላትስ ሰልችቶታል እንግዲህያዉንሱ በነፃ ያለምንም ክፍያ በቀን ከ 10-15 odd የሚለቀቅበት ቻናል ልጠቁማቹ ይጠቀሙበታል ይቀላቀሉ JOIN Request ይበሉ !ቤቲንግ ለምትመድቡ ሁሉ📍\n",
      "\n",
      "🌏የአውሮፓ እግርኳስ ዛሬ ዛሬ በቀላሉ ለመገመት አዳጋች ሆኗል ፤ ያልታሰበው እየሆነ በርካቶች ላልተገባ ኪሳራ እየተዳረጉ ነው።\n",
      "\n",
      "🤝እኛም ይህን ከግምት በማስገባት አሉ ከተባሉ የውጭ እግርኳስ ባለሞያዎች እና አወራራጆች ጋር በመሆን በጥልቅ ትንተና የተዘጋጁ የውጤት ጥቆማዎችን ለቤቲንግ አፍቃሪዎች በሙሉ አቅርበናል 𝗕𝗢𝗢𝗠 አይባል ታዲያ።\n",
      "\n",
      "🔰ምንም ሽንፈት የሚባል ነገር አያውቁም ስራቸውን በጥራት ነው የሚሰሩት እርሶም ተቀላቅለው አትራፊ ይሁኑ በቀን 85+ 𝗢𝗗𝗗 ድረስ እንሰጣለን።ቤቲንግ ይጫወታሉ መበላትስ ሰልችቶታል እንግዲህያዉንሱ በነፃ ያለምንም ክፍያ በቀን ከ 10-15 odd የሚለቀቅበት ቻናል ልጠቁማቹ ይጠቀሙበታል ይቀላቀሉ JOIN Request ይበሉ !ቤቲንግ ለምትመድቡ ሁሉ📍\n",
      "\n",
      "🤝ብዙ ዓመት ልምድ ባላቸው ቀማሪዎች የተከፈተ ብችኛ ታማኝ ቻናል ነው🫵\n",
      "\n",
      "ከኛጋ በመሆን ከሳምንት እስከ ሳምንት አሸናፊ ይሁኑ ትርፋማ ይሁኑ🥰 ከንግግር በላይ ስራችን አይተው👀 ይመስክሩ👣\n",
      "\n",
      "🏆ተመልካች ብቻ አይሁኑ! ማሸነፍ ይጀምሩ!⚽️\n",
      "\n",
      "  👇የዛሬ ጨዋታ ለማግኘት\n",
      "የቴሌግራም ቻናላችንን JOIN ያድርጉ 👇ቤቲንግ ይጫወታሉ መበላትስ ሰልችቶታል እንግዲህያዉንሱ በነፃ ያለምንም ክፍያ በቀን ከ 10-15 odd የሚለቀቅበት ቻናል ልጠቁማቹ ይጠቀሙበታል ይቀላቀሉ JOIN Request ይበሉ !ቤቲንግ ለምትመድቡ ሁሉ📍\n",
      "\n",
      "🌏የአውሮፓ እግርኳስ ዛሬ ዛሬ በቀላሉ ለመገመት አዳጋች ሆኗል ፤ ያልታሰበው እየሆነ በርካቶች ላልተገባ ኪሳራ እየተዳረጉ ነው።\n",
      "\n",
      "🤝እኛም ይህን ከግምት በማስገባት አሉ ከተባሉ የውጭ እግርኳስ ባለሞያዎች እና አወራራጆች ጋር በመሆን በጥልቅ ትንተና የተዘጋጁ የውጤት ጥቆማዎችን ለቤቲንግ አፍቃሪዎች በሙሉ አቅርበናል 𝗕𝗢𝗢𝗠 አይባል ታዲያ።\n",
      "\n",
      "🔰ምንም ሽንፈት የሚባል ነገር አያውቁም ስራቸውን በጥራት ነው የሚሰሩት እርሶም ተቀላቅለው አትራፊ ይሁኑ በቀን 85+ 𝗢𝗗𝗗 ድረስ እንሰጣለን።📸 ፖል ስኮልስ x ቴንሀግተጫዋቾች ወደ ሜዳ ሊገቡ ነው😁ቴንሀግ ራሽፎርድ ደጋፊውን ሰላምታ ሳይሰጥ ስለወጣበት ክስተት 🗣\n",
      "\n",
      "\" አላየሁም ያንን ማድረጉን እርግጠኛ አይደለሁም ።\"ራሽፎርድ 📍ስኮት ማክቶሚናይ ተቀያሪ ወንበር ላይ ሆኖ ይጀምራል\n",
      "\n",
      "Leaked Lineups 📰ኮቢ ማይኖ በቋሚ አስላለፍ ላይ ጀምሯል\n",
      "\n",
      " Leaked Lineups 📰ኤሪክሰንም በቋሚ አሰላለፉ ላይ አለ ! Leaked Lineups 📰ሉክ ሾው እና ሶፍያን አምራባት ቀለል ባሉ ምክንያቶች ከዛሬው ጨዋታ ውጪ ሆነዋል !ተጫዋቾች ወደ ሜዳ እየገቡ ነውአዲሱ ስፖርቲንግ ዳይሬክተራችን ሰር ዳቭ ብራልስፎርድ ስቴድየም ተገኝተዋል 👏🔥ካሴሴሴሴሴሴሴሴሴሴበኦልትራፎርድ የተቃውሞ ድምፅ ተሰምቷል እረፍት ሰአት ላይ !ፓትሪስ ኤቭራ 🗣\n",
      "\n",
      "\" የቆመ ኳስ ላይ ትኩረት ካደረጉ እና በዚህ መንገድ መጫወት ከቀጠሉ ዩናይትድ 3-2 ቢያሸንፉ አልገረምም።\"\n",
      "\n",
      "እኛ ግን ግብ  ካስቆጥርን ነው የምንገረመው 😭ሁለተኛው አጋማሽ ሊጀመር ነውFinally 😍ፓትሪስ ኤቭራ ምንድነው ያየኸው 😭CHRISTMAS EFFECT 😇ተጠናቀቀቀቀቀቀቀቀቀቀአሸነፍንንንንኤቭራ🤝 እውነታ🔥🔥🥹❤️ጋርናቾ 🗣\n",
      "\n",
      "\" የእግር ኳስ ህይወቴ ምርጡ ቀን ሆይሉንድ እወድሀለው ።\"\n",
      "\n",
      "ሆይሉንድ 🗣\n",
      "\n",
      "\" እኔም እወድሀለው  ።\" 😁😍የምንፈልገውን ያህል ሰው ስላገኘን ከዚህ በኋላ የሚመጡ አመልካቾችን አንቀበል ለተሳተፉቹ እናመሰግናለን 🙏ተጫዋቾቻችን እያሟሟቁ ነዉ🔥🔥🔥🔥አላችሁ?እየገቡ ነው ዛሬ ጣፋጭ 3ነጥብ እንጠብቃለን 💪💪💪ተጀመረኮርና ኮርና ለኖቲንግሃምዩናይትድ አወጡት ኳሱንማን ዩናይትድ እየተቀባበሉ ነውኳስ ወጣዩናይትድ በማጥቃት ላይ !አለመረጋጋት እያየን ነውቅጣት ምት ለኖቲንግሃምኳስ ነቲንግሀም ጋር !ውድድድድድድድ🔥ጥሩ ኳስ ሞክሮ ነበረ ወጣየመልስ ውርወራ ለኖቲንግሃምተመጣጣኝ ጨዋታ እየተመለከትን እንገኛለን !ኳስ በድጋሜ ኖቲንግሀም  ጋር !ዳሎት ተደርቦ አወጣውጊብስ ዋይት ሊያሻማ ነውወጣ ኳሱኤላንጋጋጋጋጋጋጋጋጋኦኦኦ ቫራን ራሱ ላይ ሊያስቆጥረው ነበረዩናይትድ ኳስ ይዘዋልኖቲንግሀም እያስጨነቁን ነውኳስ ዩናይትድ ጋር !ዩናይትድ ጥሩ ኳስመልሰው ኖቲንግሃም ኳስ ቀሙአይና ጥሩ ኳስፎረስት እየተቀባበሉ ነውኒካቴ ኳሱ ረዘመበትፈጣን ጨዋታ እየተመለከትን ነው !ኢቫንስ ጥፋት ተሰራበትፎረስት ኳስ ይዘዋል🙃እየተቀባበሉ ላለው ፎረስቶችአሁን አስጣልንኳስ ይዘናልእያጠቃን ነውየቢሳካ እና የአንቶኒ ጥምረት ደካማ ነው !በተለይ አንቶኒ ፓሶቹ እየተበላሹበት ነውቢሳካ ጥፋት ሰራ !የጎል ሙከራ\n",
      "\n",
      "ፎረስት 2\n",
      "0 ዩናይትድኳስ ይዘናልኢቫንስ ጥፋት ሰራእስካሁን ምንም ብልጫ የወሰድንበት አጋጣሚ እያሳየን አይደለምኮርና ለ ፎረስትፎረስት እያጠቁ ነውእስካሁን አንድ ኳስ መሞከር አልቻልንም !የመልስ ውርወራ ለ ዩናይትድቢሳካምን እንደሚያደርግም ግራ የገባው ይመስላል ቀኝ ክንፉን ትቶ መሀል ላይ መቶ እያበላሸ ነው31 ደቂቃ ላይ ደርሰናል\n",
      "\n",
      "0-0ቢሳካካካ ሞክሮ ነበር ተደረበማይኖ ጥፋት ሰራቢሳካ ያረገው ቀላል ሙከራ በጨዋታው የመጀመሪያችን ነው35 ደቂቃ \n",
      "\n",
      "0-0ይወረደ እንቅስቃሴ እያደረጉ ነው ተጫዋቾቻችንኳስ ቅብብላችን እጅግ ቀርፋፋ ነው ኳስ መስርቶ የሚወጣ አማካይ የለንምኳስ ይዘናልአንቶኒ ኳስ እየበላ ነውቅጣት ምት ለፎረስትየቀኝ መስመራችን እንቅሳቅሴ እጅግ እጅግ የወረደ ነውኮርና ለፎረስትኳስ መቀባበል ራሱ አልቻልንም POOR 1ST HALF45+1 የባከነማክ በ ማይኖ ተቀየረኳስ አኛ ጋር ነውተነጠቅንኦኦኦኦኦአመለጠን ራሽኖቲንግሃም ኳስ ተቆጣጥረዋልአንቶኒ ላይ ጥፋት ተሰራበትኳስ ይዘዋል ፎረስቶችማክ አስጣለጋርናቾ ካውንተር ገብቶ ነበር አበላሸውአማድ ሊገባ ነውቅያሪ ዩናይትድ\n",
      "\n",
      "አማድ ገባ\n",
      "አንቶኒ ወጣዳሉትትትትትትትብረት መለሰበትአስደናቂ ሙከራ ነበርጊብስ ዋይት ቢጫ ካርድ ተመልክቷልቁይ ሚያሰጥ ፋውል ነው ሚሰራው ልጁሶስት ግዜ ነው ጥፋቱን የሰራውቫር እየታየ ነውዳሉት ቢጫ ካርድ ተመልክጧልቢጫ ካርድ ለ ቫራንዳኛው ጨዋታውን መቆጣጠር ከብዷቸዋልዳሉትም ቢጫ አይቷልምክንያቱ አልገባንም ያየበት ግን ?ቅጣት ምት ለፎረስትራሽፎርድ  ላይ ጥፋት የተሰራ ይመስላል ሳጥን ውስጥቫር ቼክ እያደረገው ነውራሽ የተጎዳ ይመስላልጎል ፎረስትአስቆጠሩትዶሚንግዌዝ ነው ያስቆጠረውጋርናቾ ወጣበት70\n",
      "\n",
      "1-0የማይኖ መውጣት እና የማክቶሚናይ መግባት  ምንም ያልገባኝ ነገርTactical Change !ጎልልልልልልልማንዩናይትድ ራሽፎርድጋርናቾ አሲስት !በግብ ጠባቂው ስህተት ነውማት ተርነር ሙሉ ጨዋታውን ሲሳሳት ነበር አሁንም ለጋርናቾ በፓስ ስህተት አቀበለው !ማርከስ ራሽፎርድ ⚽️\n",
      "\n",
      "Good Assist From Garna 🅰ኤሪክሰንንንንንንንን አወጣበት በረኛውጎል ፎረስትጊብስ ዋይት አስቆጠረማክቶሚናይ Poor Marking !ኤላንጋ አሲስት !ማክ አማካይ ላይ ተሰልፎ የነበረበት ቦታ ግን ከዳሉት አጠገብ ነው !ጋርናቾ ቢጫ አይቷልቢጫ ካርድ ለ ማንጋላኮርና ለ ዩናይትድአልተጠቀምንበትምቢሳካ ወጣ\n",
      "ሬጊሎን ገባየዘገየ ቅያርኤሪክሰን ሌላው ደካማ ብቃት ያሳየ ተጫዋች !90+10 የባከንነ ተጨምራልብሩኖኖኖኖኖ አወጣው ተርነርአማድድድድ ተርነር ያዘበትትቢጫ ካርድ ለ ኤሪክሰንኤሪክሰን ባልቀ ሰአት ሳተውተጠናቀቀዩናይትድ በዲሴምበር ወር:\n",
      "\n",
      "🏟️ 8 ጨዋታ\n",
      "✅ 2 ድል\n",
      "🤝 1 አቻ\n",
      "❌ 5 ሽንፈት\n",
      "⚽ 6 ጎል አስቆጠሩ\n",
      "🥅 12 ግብ አስተናገዱ\n",
      "\n",
      "Disastrous month 😶ጋሪ ኔቪል 🗣\n",
      "\n",
      "\" ቡድኑ እንዴት እንደሚጭወት ሳያውቅ እና ትክክለኛ አወዋቀር ሳይኖረው ነው ወደ ሜዳ የሚገቡት ለማሳየት የሚጥሩትን ነገር ለማየት ከራሴ ጋር ግብ ግብ ውስጥ ገብቻለሁ ።\"💸ቢቲንግ ለምትመድቡ! ብዙዎችን አሸናፉ እንዲሁም ትርፋማ እያደረገ የሚገኘው የ𝐀𝐌𝐔 𝐅𝐈𝐗𝐄𝐃 𝐁𝐄𝐓𝐓𝐈𝐍𝐆 𝐓𝐈𝐏𝐒 ቢቲንግ ቻናል እስካሁን አልተቀላቀሉም?ወይንስ አልሰሙም ይሆናል?\n",
      "\n",
      "\n",
      "ካልሰሙ እንጊዲያዎንስ እንንገሮ🗣\n",
      "\n",
      "💸✅..በርካታ ጨዋታዎችን እየቀመረ ከተለያዩ Source በጥንቃቄ ትኬቶችን እየሰራ በየቀኑ የሚያቀርብላችሁ 𝐀𝐌𝐔 𝐅𝐈𝐗𝐄𝐃 𝐁𝐄𝐓𝐓𝐈𝐍𝐆 𝐓𝐈𝐏𝐒  በመቀላቀል ከኛ ጋር በአንድ ላይ በመሆን ያሸንፉ\n",
      "\n",
      "👉ኑ አትርፉ! ቻናላችንን ይቀላቀሉ ስራችንን ይመልከቱ❓የየትኛው ክለብ  ደጋፊ ናችሁ  የክለባችሁን ቻናል በመምረጥ ተቀላቀሉ ❗️❗️\n",
      "\n",
      "\n"
     ]
    }
   ],
   "source": [
    "for doc in relevant_docs:\n",
    "  print(doc.page_content)\n",
    "  print('\\n')"
   ]
  },
  {
   "cell_type": "code",
   "execution_count": 28,
   "metadata": {},
   "outputs": [],
   "source": [
    "template = \"\"\"<human>: Create a compelling Amharic or Amharic mixed with English advertisement for {question}.\n",
    "Highlight the key features,unique selling points, and the exceptional services offered by the brand. \n",
    "Craft a persuasive narrative that resonates with the target audience, emphasizing the brand's values \n",
    "and commitment to customer satisfaction. Use vibrant and engaging language to evoke a positive emotional\n",
    "response and encourage potential customers to explore and choose {question}. \n",
    "Ensure the ad reflects the brand's identity and leaves a lasting impression on the audience.\n",
    "\n",
    "Make it a highly personalized promotional text that resonates with {context}, drawing insights from their \n",
    "contextual data. Leverage historical interactions, discussions, or online activities to tailor the ad \n",
    "closely to {context} unique preferences and interests. Highlight features and services that align with \n",
    "their needs based on the available contextual information. Tailor the language to address specific topics,\n",
    "preferences, or issues derived from {context} historical interactions. Ensure the personalized content feels\n",
    "natural and aligns with [User's] communication style, fostering a deep connection and encouraging meaningful\n",
    "engagement. The goal is to create an ad that demonstrates an understanding of {context} context, providing\n",
    "value and relevance in a way that feels organic.\n",
    "### CONTEXT\n",
    "{context}\n",
    "\n",
    "### QUESTION\n",
    "Question: {question}\n",
    "\n",
    "\\n\n",
    "\n",
    "<bot>:\n",
    "\"\"\"\n",
    "\n",
    "prompt = ChatPromptTemplate.from_template(template)\n",
    "\n",
    "model = Mistral_7B"
   ]
  },
  {
   "cell_type": "code",
   "execution_count": 29,
   "metadata": {},
   "outputs": [],
   "source": [
    "chain = (\n",
    "    {\"context\": retriever, \"question\": RunnablePassthrough()}\n",
    "    | prompt\n",
    "    | model\n",
    "    | StrOutputParser()\n",
    ")"
   ]
  }
 ],
 "metadata": {
  "kernelspec": {
   "display_name": "venv",
   "language": "python",
   "name": "python3"
  },
  "language_info": {
   "codemirror_mode": {
    "name": "ipython",
    "version": 3
   },
   "file_extension": ".py",
   "mimetype": "text/x-python",
   "name": "python",
   "nbconvert_exporter": "python",
   "pygments_lexer": "ipython3",
   "version": "3.10.12"
  }
 },
 "nbformat": 4,
 "nbformat_minor": 2
}
