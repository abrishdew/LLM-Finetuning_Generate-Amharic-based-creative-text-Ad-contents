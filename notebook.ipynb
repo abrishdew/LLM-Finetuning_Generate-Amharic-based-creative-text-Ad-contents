{
 "cells": [
  {
   "cell_type": "code",
   "execution_count": 4,
   "metadata": {},
   "outputs": [
    {
     "name": "stdout",
     "output_type": "stream",
     "text": [
      "['healthcare &pharma' 'Telecom' 'Media' 'financial service'\n",
      " 'consumer products' 'computing device' 'healthcare & pharma' 'media'\n",
      " 'Realstate' 'retail' 'compting device' 'Other' 'training' 'Entertainment'\n",
      " 'software development' 'Retail' 'travel' 'Healthcare & pharma'\n",
      " 'Healthcare & pharma:' 'Financial']\n"
     ]
    }
   ],
   "source": [
    "import pandas as pd\n",
    "df = pd.read_csv(\"test_set.csv\")\n",
    "print(df[\"Human_Label\"].unique())"
   ]
  },
  {
   "cell_type": "code",
   "execution_count": 5,
   "metadata": {},
   "outputs": [
    {
     "data": {
      "text/html": [
       "<div>\n",
       "<style scoped>\n",
       "    .dataframe tbody tr th:only-of-type {\n",
       "        vertical-align: middle;\n",
       "    }\n",
       "\n",
       "    .dataframe tbody tr th {\n",
       "        vertical-align: top;\n",
       "    }\n",
       "\n",
       "    .dataframe thead th {\n",
       "        text-align: right;\n",
       "    }\n",
       "</style>\n",
       "<table border=\"1\" class=\"dataframe\">\n",
       "  <thead>\n",
       "    <tr style=\"text-align: right;\">\n",
       "      <th></th>\n",
       "      <th>text</th>\n",
       "      <th>Human_Label</th>\n",
       "    </tr>\n",
       "  </thead>\n",
       "  <tbody>\n",
       "    <tr>\n",
       "      <th>0</th>\n",
       "      <td>ADVERTISMENT አፊያ ሙሀመድ ከፍተኛ የባህል ሕክምና እና ዘመናዊ የ...</td>\n",
       "      <td>healthcare &amp;pharma</td>\n",
       "    </tr>\n",
       "    <tr>\n",
       "      <th>1</th>\n",
       "      <td>Bulk SMS ለሁሉም ቢዝነሶቻችን የሚመቹ ጥቅሎች ይዞ መቷል። ከሁለቱ አ...</td>\n",
       "      <td>Telecom</td>\n",
       "    </tr>\n",
       "    <tr>\n",
       "      <th>2</th>\n",
       "      <td>⬆️⬆️ስለ ደብረ ማርቆስ ዩኒቨርሲቲ አጭር መረጃ! ዩኒቨርሲቲው ውስጥ ከሚ...</td>\n",
       "      <td>Media</td>\n",
       "    </tr>\n",
       "    <tr>\n",
       "      <th>3</th>\n",
       "      <td>ADVERTISMENT ወሎ ሀይቅ ቤት ከፈለጉ ይደውሉ 👇 ዶ/ር አብዱ፣ ዶ/...</td>\n",
       "      <td>financial service</td>\n",
       "    </tr>\n",
       "    <tr>\n",
       "      <th>4</th>\n",
       "      <td>ADVERTISMENT ሰላም👋 እንኳን ወደ Writer’s Desk Consul...</td>\n",
       "      <td>financial service</td>\n",
       "    </tr>\n",
       "    <tr>\n",
       "      <th>...</th>\n",
       "      <td>...</td>\n",
       "      <td>...</td>\n",
       "    </tr>\n",
       "    <tr>\n",
       "      <th>210</th>\n",
       "      <td>ADVERTISMENT አፊያ ሙሀመድ ከፍተኛ የባህል ሕክምና እና ዘመናዊ የ...</td>\n",
       "      <td>healthcare &amp;pharma</td>\n",
       "    </tr>\n",
       "    <tr>\n",
       "      <th>211</th>\n",
       "      <td>ADVERTISMENT ጋስፋይ አፓርትመንት እንኳን ለአዲሱ አመት አደረሳችሁ...</td>\n",
       "      <td>financial service</td>\n",
       "    </tr>\n",
       "    <tr>\n",
       "      <th>212</th>\n",
       "      <td>ADVERTISMENT ➨ በኢትዮጵያ ትልቁን የአክሲዮን ትርፍ ክፍፍል ያስመ...</td>\n",
       "      <td>financial service</td>\n",
       "    </tr>\n",
       "    <tr>\n",
       "      <th>213</th>\n",
       "      <td>ADVERTISMENT Odeeffannoowwan weeytawaa biyyaa ...</td>\n",
       "      <td>media</td>\n",
       "    </tr>\n",
       "    <tr>\n",
       "      <th>214</th>\n",
       "      <td>ADVERTISMENT አፊያ ሙሀመድ ከፍተኛ የባህል ሕክምና እና ዘመናዊ የ...</td>\n",
       "      <td>healthcare &amp;pharma</td>\n",
       "    </tr>\n",
       "  </tbody>\n",
       "</table>\n",
       "<p>215 rows × 2 columns</p>\n",
       "</div>"
      ],
      "text/plain": [
       "                                                  text         Human_Label\n",
       "0    ADVERTISMENT አፊያ ሙሀመድ ከፍተኛ የባህል ሕክምና እና ዘመናዊ የ...  healthcare &pharma\n",
       "1    Bulk SMS ለሁሉም ቢዝነሶቻችን የሚመቹ ጥቅሎች ይዞ መቷል። ከሁለቱ አ...             Telecom\n",
       "2    ⬆️⬆️ስለ ደብረ ማርቆስ ዩኒቨርሲቲ አጭር መረጃ! ዩኒቨርሲቲው ውስጥ ከሚ...               Media\n",
       "3    ADVERTISMENT ወሎ ሀይቅ ቤት ከፈለጉ ይደውሉ 👇 ዶ/ር አብዱ፣ ዶ/...   financial service\n",
       "4    ADVERTISMENT ሰላም👋 እንኳን ወደ Writer’s Desk Consul...   financial service\n",
       "..                                                 ...                 ...\n",
       "210  ADVERTISMENT አፊያ ሙሀመድ ከፍተኛ የባህል ሕክምና እና ዘመናዊ የ...  healthcare &pharma\n",
       "211  ADVERTISMENT ጋስፋይ አፓርትመንት እንኳን ለአዲሱ አመት አደረሳችሁ...   financial service\n",
       "212  ADVERTISMENT ➨ በኢትዮጵያ ትልቁን የአክሲዮን ትርፍ ክፍፍል ያስመ...   financial service\n",
       "213  ADVERTISMENT Odeeffannoowwan weeytawaa biyyaa ...               media\n",
       "214  ADVERTISMENT አፊያ ሙሀመድ ከፍተኛ የባህል ሕክምና እና ዘመናዊ የ...  healthcare &pharma\n",
       "\n",
       "[215 rows x 2 columns]"
      ]
     },
     "execution_count": 5,
     "metadata": {},
     "output_type": "execute_result"
    }
   ],
   "source": [
    "df"
   ]
  }
 ],
 "metadata": {
  "kernelspec": {
   "display_name": "venv",
   "language": "python",
   "name": "python3"
  },
  "language_info": {
   "codemirror_mode": {
    "name": "ipython",
    "version": 3
   },
   "file_extension": ".py",
   "mimetype": "text/x-python",
   "name": "python",
   "nbconvert_exporter": "python",
   "pygments_lexer": "ipython3",
   "version": "3.10.12"
  }
 },
 "nbformat": 4,
 "nbformat_minor": 2
}
